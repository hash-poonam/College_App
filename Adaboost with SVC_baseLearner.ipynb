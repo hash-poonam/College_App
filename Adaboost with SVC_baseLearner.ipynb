{
  "nbformat": 4,
  "nbformat_minor": 0,
  "metadata": {
    "colab": {
      "name": "Practical_8 Adaboost.ipynb",
      "provenance": [],
      "collapsed_sections": [],
      "authorship_tag": "ABX9TyMQpXD4jP0+U9YH09wLcHZY",
      "include_colab_link": true
    },
    "kernelspec": {
      "name": "python3",
      "display_name": "Python 3"
    },
    "language_info": {
      "name": "python"
    }
  },
  "cells": [
    {
      "cell_type": "markdown",
      "metadata": {
        "id": "view-in-github",
        "colab_type": "text"
      },
      "source": [
        "<a href=\"https://colab.research.google.com/github/poonam-kumawat/Machine_Learning_Programs/blob/main/Adaboost%20with%20SVC_baseLearner.ipynb\" target=\"_parent\"><img src=\"https://colab.research.google.com/assets/colab-badge.svg\" alt=\"Open In Colab\"/></a>"
      ]
    },
    {
      "cell_type": "code",
      "execution_count": 2,
      "metadata": {
        "id": "Ags8EpKE1NjD"
      },
      "outputs": [],
      "source": [
        "#Load Libraries \n",
        "from sklearn.ensemble import AdaBoostClassifier\n",
        "from sklearn import datasets\n",
        "#Importing train_test_split function\n",
        "from sklearn.model_selection import train_test_split\n",
        "#Importing scikit-learn metrics for accuracy \n",
        "from sklearn import metrics"
      ]
    },
    {
      "cell_type": "code",
      "source": [
        "#Load data \n",
        "iris=datasets.load_iris()\n",
        "X_poonam=iris.data\n",
        "y_poonam=iris.target"
      ],
      "metadata": {
        "id": "_OivfFRz2kpn"
      },
      "execution_count": 5,
      "outputs": []
    },
    {
      "cell_type": "code",
      "source": [
        "#Split dataset into training set and test set\n",
        "X_train_poonam,X_test_poonam,y_train_poonam,y_test_poonam=train_test_split(X_poonam,y_poonam,test_size=0.3)\n",
        "# the data is splited in 70% and 30%"
      ],
      "metadata": {
        "id": "DBblJS6C22wO"
      },
      "execution_count": 6,
      "outputs": []
    },
    {
      "cell_type": "code",
      "source": [
        "#Create adaboost classifier object\n",
        "poonam=AdaBoostClassifier(n_estimators=60,learning_rate=1)\n",
        "\n",
        "#Training AdaBoost \n",
        "model=poonam.fit(X_train_poonam,y_train_poonam)\n",
        "\n",
        "#Predict the response for test dataset\n",
        "y_pred_poonam=model.predict(X_test_poonam)"
      ],
      "metadata": {
        "id": "2PUFyZ1f3Z2H"
      },
      "execution_count": 16,
      "outputs": []
    },
    {
      "cell_type": "code",
      "source": [
        "#Accuracy\n",
        "print(\"Accuracy:\",metrics.accuracy_score(y_test_poonam, y_pred_poonam))\n"
      ],
      "metadata": {
        "colab": {
          "base_uri": "https://localhost:8080/"
        },
        "id": "CepaucZ14OOk",
        "outputId": "0693262a-3e5b-4a9d-fc8c-7a38b059f317"
      },
      "execution_count": 17,
      "outputs": [
        {
          "output_type": "stream",
          "name": "stdout",
          "text": [
            "Accuracy: 0.9777777777777777\n"
          ]
        }
      ]
    },
    {
      "cell_type": "markdown",
      "source": [
        "Using Different Base Learners\n",
        "Used SVC as a base Estimator "
      ],
      "metadata": {
        "id": "MK59rJb65wgW"
      }
    },
    {
      "cell_type": "code",
      "source": [
        "#Load Libraries\n",
        "from sklearn.ensemble import AdaBoostClassifier\n",
        "\n",
        "#Import Support Vector Classifier\n",
        "from sklearn.svm import SVC\n",
        "\n",
        "#Import scikit-learn metric module for accuracy calculation\n",
        "from sklearn import metrics\n",
        "\n",
        "svc_poonam=SVC(probability=True, kernel=\"linear\")\n",
        "\n",
        "#Create adaboost Classifier object\n",
        "poonam=AdaBoostClassifier(n_estimators=60, base_estimator=svc_poonam,learning_rate=1)\n",
        "\n",
        "# Train Adaboost Classifer\n",
        "model = poonam.fit(X_train_poonam, y_train_poonam)\n",
        "\n",
        "#Predict the response for test dataset\n",
        "y_pred_poonam = model.predict(X_test_poonam)\n",
        "\n",
        "# Model Accuracy, how often is the classifier correct?\n",
        "print(\"Accuracy:\",metrics.accuracy_score(y_test_poonam, y_pred_poonam))\n"
      ],
      "metadata": {
        "colab": {
          "base_uri": "https://localhost:8080/"
        },
        "id": "PsaQaQ7b5_AO",
        "outputId": "b0cbb57e-90a0-4660-ea37-bdd6490f3367"
      },
      "execution_count": 19,
      "outputs": [
        {
          "output_type": "stream",
          "name": "stdout",
          "text": [
            "Accuracy: 0.9555555555555556\n"
          ]
        }
      ]
    }
  ]
}